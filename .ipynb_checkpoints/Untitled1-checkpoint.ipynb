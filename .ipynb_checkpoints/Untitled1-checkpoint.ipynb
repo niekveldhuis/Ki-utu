{
 "cells": [
  {
   "cell_type": "code",
   "execution_count": 1,
   "metadata": {},
   "outputs": [],
   "source": [
    "import re"
   ]
  },
  {
   "cell_type": "code",
   "execution_count": 2,
   "metadata": {},
   "outputs": [],
   "source": [
    "file = 'kiutuW_exemp.atf'\n",
    "with open(file, 'r', encoding='utf-8-sig') as u:\n",
    "    text = u.read()"
   ]
  },
  {
   "cell_type": "code",
   "execution_count": 3,
   "metadata": {},
   "outputs": [],
   "source": [
    "old = 'ĝḫḪĜ˹˺'\n",
    "new = 'ŋhHŊ⸢⸣'\n",
    "trans = str.maketrans(old, new)\n",
    "text = text.translate(trans)"
   ]
  },
  {
   "cell_type": "code",
   "execution_count": 4,
   "metadata": {},
   "outputs": [],
   "source": [
    "letters = r'[a-zḫŋṣšṭA-ZḪŊṢŠṬ]'\n",
    "ascind = '0123456789x'\n",
    "uniind = '₀₁₂₃₄₅₆₇₈₉ₓ'\n",
    "transind = str.maketrans(ascind, uniind)\n",
    "lettersNo = re.compile(letters + r'(\\d+|x)')\n",
    "text = re.sub(lettersNo, lambda m: m.group().translate(transind), text)"
   ]
  },
  {
   "cell_type": "code",
   "execution_count": 5,
   "metadata": {},
   "outputs": [
    {
     "data": {
      "text/plain": [
       "'@obverse\\n@column 1\\n1\\t{d}utu u₄-ri-a-ta \\t\\tu₄ sud-ra₂-ri-a-ta\\n==%sb \\t{d}UTU ina u₄-mu ul-lu-ti \\tina u₄-mu ru-qu-ti ul-lu-ti\\n\\n3\\t{d}utu ŋe₆-ri-a-ta \\tŋe₆ bad-ra₂-ri-a-ta\\n==%sb \\tina mu-ši ul-lu-ti ina \\tŊE₆ né-su-ti ul-lu-ti \\n\\n5\\t{d}utu mu-ri-a-ta \\tmu sud-ra₂-ri-a-ta\\n==%sb \\tina ša-na-ti ul-la-ti \\tina ša-na-ti re<-qa>-tú ul-la-tú\\n\\n7\\t{d}utu ⸢u₄-ba⸣ ir-ir \\tŋe₆-ba im-⸢ši-us₂⸣-a-ta{\\n==%sb \\tina u₄-⸢mi⸣ ša it-tal-ku \\tina mu-ši ⸢ša it-tab⸣-šu-ú\\n\\n9\\t{d}utu u₄ an ki-ta \\t⸢ba-ra⸣-bad-ra₂-a-ta\\n==%sb \\te-nu-ma ša-mu-ú it-⸢ti KI⸣-[tì] \\tis-su-ú\\n\\n11\\t{d}utu u₄ ŋe₆-ba ŋešgem ⸢ba-na⸣-an-du₁₁-ga-eš-a-ba\\n==%sb \\te-nu-ma u₄-mu u mu-šu \\t⸢ú-ta-ad⸣-du-ú\\n\\n13\\t{d}utu u₄ abbar kalam-ma \\tenim-ŋar du₁₁ šuš₂-a-ba\\n==%sb \\te-nu-ma tam-tu₄ ma-ta la-m[a]?-a-tu\\n\\n15\\t{d}utu u₄ ki-tuš kalam-ma \\t⸢MA? x saŋ tab⸣?-ba-a-ba\\n==%sb \\te-nu-ma šub-tu₄ \\t⸢a-na ma?-ti? it⸣-ru-ú\\n\\n17\\t{d}utu u₄ hur-saŋ i₇-didli-bi \\tm[u]-⸢un⸣-[sur]-⸢re⸣-eš-a-ba\\n==%sb \\te-nu-ma ša-du-ú u I₇.MEŠ ⸢ub-ta-áš-ši⸣-mu\\n\\n19\\t{d}utu u₄ an-⸢ki x⸣?-bi \\t\\tnam-⸢dam⸣?-še₃ ba-an-tuku-eš-a-ba\\n==%sb \\te-nu-ma ⸢ša-mu-ú KUR⸣-ru \\tana áš-šu-⸢ti⸣ in-na-⸢hí⸣?-zu\\n\\n21\\t{d}utu u₄ an {d}en-⸢lil₂ an-ki⸣-a \\tmu-un-hal-hal-eš-a-ba\\n==%sb \\t{d}UTU e-nu-ma {d}a-⸢nù⸣ u {d}en-líl AN-e u KI-tì i-zu-zu\\n\\n23\\t⸢suhuš⸣ an-ki \\t\\tmu-un-ge-na-eš-a-ba\\n==%sb \\t[i]š-di AN-e u KI-tì \\t⸢ú-ki⸣-in-nu\\n\\n25\\t{d}[utu ŋe]š-⸢hur \\tmu-un-hur⸣-hur-re-eš-a-ba\\n==%sb \\t⸢ú-ṣu-rat AN-e u KI-tì⸣ \\t⸢uṣ⸣-[ṣ]i-rù\\n\\n27\\t[{d}a]-⸢nun-na⸣ an-ki-⸢a⸣ \\t⸢mu⸣-[ni-ib₂]-⸢dur₂⸣-ru-ne-⸢eš⸣-a-ba\\n==%sb \\t[{d}MIN ina] AN-e u KI-tì⸣ \\t\\t⸢ú-še-ši⸣?-bu\\n\\n29\\t⸢x⸣ kur-kur-ra ki ⸢x x x⸣\\t⸢mu-un⸣-sur-⸢sur⸣-re-eš-a-ba\\n==%sb \\t[x] ⸢x x⸣ ša?-tú? ⸢x⸣ [\\t] \\t⸢x x x x x⸣-mu\\n\\n31\\t[an] ⸢{d}en-lil₂⸣ {d}en-ki \\t⸢diŋir gal⸣-gal-e-⸢ne⸣\\n==%sb \\t{d}a-nu {d}en-líl u {d}é-a \\t⸢i-lu₄⸣ ra-bu-tu₄\\n\\n33\\t[{d}u]tu en gal an-ki-bi-da-ke₄ \\t⸢mu⸣-zu mu-ni-in-še₂₁-⸢eš⸣\\n==%sb \\t{d}UTU be-lu ra-bu-ú ina AN-e u KI-tì šùm-ka ib-bu-ú \\n\\n35\\t[za]-e an-na saŋ-us₂ gub-bu-da \\tša-mu-ra-da-an-ge-na-eš\\n==%sb \\tka-a-ša ka-a-a-ma-nu-tú \\tina AN-e ú-zu-za ú-kin-nu-ka\\n\\n37\\t[kalam-m]a saŋ-e-eš \\tmu-un-⸢ši-in⸣-rig₇-eš\\n==%sb \\tma-tú ana ši-rik-ti \\tiš-ru-ku-ka\\n\\n39\\tdiŋir {d}a-nun-na-ke₄-e-ne saga₁₀ ⸢AK⸣-de₃ šu-zu-a mu-ni-in-si-eš\\n==%sb \\tì-lí {d}a-nun-na-ki ⸢pa-qa-da₄⸣ ana qa-ti-ka ú-ma-al-lu-ú\\n\\n41\\t⸢nam-lu₂⸣-lu₇ lu₂ til₃ lu₂ uš₂ šu-zu-a\\n==%sb \\ta-wi-lu-ti bal-ṭa mi-ti ana qa-ti-ka\\n\\n42\\t⸢maš₂⸣-anše niŋ₂-zi-ŋal₂ edin-na u₂ gu₇ \\ta naŋ ŋa₂-ŋa₂-de₃ šu-zu-a\\n==%sb \\tana bu-ul {d}SUGAL₇ ši-kin na-piš-ti \\tšá EDIN ri-tú maš-qí-ti šá-ka-nu ana qa-ti-ka\\n\\n44\\tnam-nam-ma du₃-a-bi tar-e-de₃ \\tdiŋir gal-gal-e-ne niŋen-ba-bi šu-zu-a\\n==%sb \\tši-mat ka-la-ma šá-a-mu DIŊIR.MEŠ GAL.MEŠ ina nap-ha-ri-šú-nu ana qa-ti-ka\\n\\n46\\tŋa₂-e ka-tu₆-ŋal₂ šu-si-sa₂ eridu{ki}-ga-ke₄ \\n==%sb \\tana-ku a-ši-pu ka-ri-bu šá eri-du₁₀\\n\\n47\\tsusbu₂{bu} šu dadag-ga lu₂ ⸢kiŋ₂-ge₄-a⸣ \\t{d}en-ki {d}asar-lu₂-hi-ka-me-en\\n==%sb \\tra-am-ku ša qá-ta-a-šú eb-ba \\tDUMU šip-ri šá {d}é-a u {d}AMAR.UTU a-na-ku\\n\\n49\\ten gal {d}en-ki-ke₄ mud du₃-a-bi \\ten {ŋeš-tu}9ŋeštug daŋal-la-ke₄\\n==%sb \\tbe-lu GAL {d}é-a ba-an ka-la-mu be-lu rap-ša-ti uz-nu DAŊAL-tì uz-nu\\n\\n51\\t{d}asar-lu₂-hi dumu saŋ {d}en-ki-ke₄ \\tlugal nam-isib-ba-ke₄\\n==%sb \\t{d}AMAR.UTU DUMU reš-tu-ú šá {d}é-a\\tbe-lu a-ši-pu-tu₄\\n\\n53\\tki-za-a m[u-e-š]i-⸢in⸣-ge₄-eš \\tmu-e-ši-in-aŋ₂-e-eš\\n==%sb \\tana k[a-a-ši iš-p]u-ru \\tú-ma-i-ru-in-ni\\n\\n55\\tu₃-u[m-\\tdi ku₅-r]u-da \\teš-bar bar-re-e-de₃ ki {d}utu i₃-ŋal₂\\n==%sb \\t⸢x⸣ [\\t\\tda-a-n]u pu-ru-us-su-ú pa-ra-su it-ti {d}UTU i-ba-áš-ši\\n\\n57\\t[\\t-b]i-ta i₃-dur₂-ra?-ne-eš-am₃\\n==%sb \\t[\\t] ⸢x⸣ E URU áš-bu\\n\\n59\\t [\\t\\t-d]e₃ NE AK inda numun₂\\n==%sb \\t [\\t\\t] ⸢x⸣-šú (Rasur) zak-ru\\n\\n61\\t [\\t\\t\\t\\t] ⸢x⸣ kiŋ₂-ge₄-a-aš\\n==%sb \\t [\\t\\t\\t\\t] {d}UTU {d}NE.GI\\n\\n63\\t [\\t\\t\\t\\t\\t-d]a\\n==%sb \\t [\\t\\t\\t\\t\\t]\\n@column 2\\n1\\t\\tša₃-zu₂-keše₂-bi nar lagarₓ(SAL.HUB₂) se₉-e-de₃ k[i {d}utu i₃-ŋal₂]\\n==%sb \\t\\tlìb-ba ṣap-ra na-a-ru ka-lu-ú nu-uh-hu it-t[i {d}UTU i-ba-áš-ši]\\n\\n3\\t\\tinda numun₂-bi diŋir ama {d}inana-bi si-sa₂-de₃ ki [{d}utu]\\n==%sb \\t\\tzi-ka-ri sin-niš-ti DIŊIR u iš-ta-ra šu-te-š[u-ru it-ti {d}UTU]\\n\\n5\\t\\talan i₇-da ka-bi du₈-u₃-da e₂ ⸢tu₅⸣-a diŋir lu[gal ki {d}utu]\\n==%sb \\t\\tṣal-ma ina na-a-ru pi-šu pe-tu-ú rim-ki DIŊIR ⸢LUGAL⸣ i[t-ti{ } {d}UTU]\\n\\n7\\t\\tešda₂ en lu₂-mah isib ereš-diŋir maš₂-e ⸢pa₃⸣-de-de₃ k[i {d}utu]\\t\\n==%sb \\t\\tšar-ri e-na LU₂.MAH i-šip-pá ⸢úg-bab-tu₄ ina⸣ bi-ri a-tu-ú [it-ti {d}UTU]\\n\\n9\\t\\tšu-ta₃-ga diŋir du₃-a-bi \\thuŋ-⸢ŋa₂-de₃⸣ k[i {d}utu]\\n==%sb \\t\\tli-pit qá-a-ti DIŊIR.MEŠ ka-⸢la-a-ma⸣ nu-uh-hu it-[ti {d}UTU]\\n\\n11\\t\\t⸢sulummar⸣(KI.SAŊ.⸢DU⸣) ⸢AK⸣-da \\t⸢biluda⸣-bi AK-AK-de₃ ki [{d}utu]\\n==%sb \\t\\t⸢ša ṭú-pu-ul⸣-le-e ša-ak-nu pel-⸢lu-du⸣-šú up-pu-šu i[t-ti {d}UTU]\\n\\n13\\t\\tlu₂ dur₁₁-⸢ra nam⸣-šub \\t⸢se₉{!}-ge-da⸣ ki ⸢{d⸣}[utu]\\n==%sb \\t\\tmar-ṣa ina šip-ti \\t\\tpu-uš-šu-hi it-ti [{d}UTU]\\n\\n15\\t\\tniŋ₂-saŋ-il₂-la lu₂ til₃ lu₂ ge₁₇-ga-bi alan ge im-ma dim₂-e-[de₃]\\n==%sb \\t\\t⸢pu-hi⸣ bal-ṭi u ⸢mar-ṣi⸣ ṣa-lam qa-né-e u ṭi-ṭi ba-nu-⸢ú⸣\\n\\n17\\t\\tinda₃-kaskal si-ge-de₃ niŋ₂-saŋ-il₂-la-bi-gen₇ šum₂-mu-de₃ ki [{d}utu]\\n==%sb \\t\\tṣi-di-ti šá-pa-ku ki-ma pu-hi-šú-ma na-da-nu it-ti [{d}UTU]\\n\\n19\\t\\talan inda numun₂-e zi₃ sur-re-de₃ gur-gur-ra-bi su-bi-a du[b-(dub-)bu-de₃]\\n==%sb \\t\\tṣa-lam zi-ka-ru u sin-niš-ti ina qé-me{!}(ŠU₂) e-ṣe-ru ku-pi-ra-ti-šú-nu []\\n\\n21\\t\\tsul-a-lum-bi du₈-u₃-da \\tnam-da₆-ga zi-zi-da k[i {d}utu]\\n==%sb \\t\\tta-ba-ku en-né-et-tú ⸢pa-ṭa-rù a-ra-⸢an⸣ na-as-hi it-t[i {d}UTU]\\n\\n23\\t\\tlu₂ šer₇-da šu bar zi AK-de₃ \\tšu nam-til₃-la ŋar-ra-de₃ k[i {d}utu]\\n==%sb \\t\\ta-⸢wi⸣-lam ina še-er-tú ka-a-ša gi-mil ba-lá-ṭi šá-ka-nu it-[ti {d}UTU]\\n\\n25\\t\\tGANA₂tenû-eš₂ ⸢GANA₂tenû-a-bi⸣ si-sa₂-e-de₃ \\tnam-gu₂-bi šu teŋ₃-ŋa₂-de₃ k[i {d}utu]\\n==%sb \\t\\thab-la u ⸢ša-ag⸣-ša šu-te-šu-ru hi-bíl-ta-šú le-qu-[u \\t]\\n\\n27\\t\\tlu₂ udug dab-ba kitim dab-ba tehi dim₂-me kur-ra dab-ba {d}dim₃-[me   ]\\n==%sb \\t\\t⸢ša⸣ ú-tuk-ku ṣab-tu-šu e-ṭém-mu MIN ⸢x x x⸣ MIN la-ma[š-tu MIN]\\n\\n29\\t\\t⸢{d}⸣dim₃-me-a dab-ba {d}dim₃-me-niŋen₂ dab-ba [\\t\\t\\t]\\n==%sb \\t\\t⸢la-ba⸣-ṣu ṣab-tu-šu ah-ha-za MIN a-sak-ku ⸢MIN? ar?-da⸣?-[at\\t]\\n\\n31\\t\\tsu tub₂ sir₂-ra mer{!}(KA)-sis-a RU ⸢x⸣ ki a luh-ha ⸢x⸣ [\\t]\\n==%sb \\t\\t⸢x x⸣ hur-ba-šu ⸢x x⸣ NU mu-sa-⸢tú⸣ [\\t]\\n\\n33\\t \\tNA ⸢x RI⸣? [\\t] ⸢x x⸣ maš₂-an[še {d}suga]l₇ an-na [\\t]\\n==%sb \\t \\tDAG ⸢x x⸣ [\\t\\tna]m-ma-š[u\\t\\t\\t]\\n\\n35\\t\\tŋuruš lil₂-la₂ ki-sikil-l[il₂-la₂\\t\\t]-⸢da⸣?-ge-ne ⸢dab⸣? [\\t]\\n==%sb \\t\\teṭ-lu šá li-lu-⸢u⸣ [x ar-d]a-at li-li-i ⸢x x⸣ [\\t\\t\\t]\\n\\n37\\t\\tšu-ta ⸢kar-re-de₃⸣ \\tki [{d}utu]\\n==%sb \\t\\t⸢x x x x x x x x⸣? ina qá-ti e-ṭe-ru it-[ti {d}UTU]\\n\\n39\\t\\t{d}utu kitim ⸢x x x⸣ ge₄-ge₄-de₃ ša₃ kur-ta kitim? [\\t]\\n==%sb \\t\\t{d}UTU ana e-ṭém-mu ⸢x x x x x x x⸣ na-hi KI-tì e-ṭém-[mu\\t] \\n\\n41\\t\\tgu₂ ŋar-re-da di niŋ₂-ge-na dab-be₂-da lu₂ til₃ lu₂ ⸢uš₂-a GANA₂tēnû-eš₂  lal₂?⸣ [\\t]\\n==%sb \\t\\tpu-uh-hu-ru di-ni kit-ti šu-hu-zu ana mi-tu ⸢bal-ṭa la ha-ba⸣-[lu\\t]\\n\\n43\\t\\t⸢kitim⸣ dab-ba silim-e-⸢da x⸣ lu₂ til₃ lu₂ uš₂-a ku₅-ru-da ⸢x ki mu-un⸣-[\\t]\\n==%sb \\t\\te-ṭém-mu ze-na-a sul-[l]u-mu ⸢x x⸣-ti bal-ṭi it-ti ⸢mi-ti? x x⸣ [\\t]\\n\\n45\\t\\tgur-ru-da ša₃-zu₂-keše₂-bi du₈-u₃-da enim ku₅-ru-da ki {d}utu\\n==%sb \\t\\ttur-ru ki-ṣir lìb-bi-šú pa-ṭa-a-ru e-⸢ṭém⸣-ma-šú pa-ra-su it-ti ⸢{d}UTU⸣\\n\\n47\\t\\tkitim šu dag-dag-ge-de₃ lu₂ šid-du₃ nu-un-tuku-a ⸢kurum₆⸣ ŋar-re-da ki {d}u[tu]\\n==%sb \\t\\tana{!} e-ṭém-mí mur-tap-pi-du šá ⸢pa-qí⸣-du la i-šu-ú ku-ru-ma-t[ú\\t]\\n\\n49\\t\\tki-si₃-ga si₃-ke-de₃ a bala-e-de₃ mu-bi pa₃-de-[de₃\\t]\\n==%sb \\t\\tki-is-pa ka-sa-pu me-e na-qu-ú šum-šú za-k[a-ru\\t]\\n\\n51\\t\\tuš₁₁ bur₂-ru-da nam-erim₂ lu₂ uš₂-a bur₂-ru-d[a\\t]\\n==%sb \\t\\tkiš-pi pa-⸢ṭa⸣-a-ru ma-mit mi-ti pa-ša-a-[ru\\t]\\n\\n53\\t\\tmunus sahar su₃-su₃ e₂ a-tu₅-a [\\t]\\n==%sb \\t\\tsin-niš-ti šá e-pe-ri ka-šat ina [\\t]\\n\\n55\\t\\tmunus si nu-sa₂-a e₂ tu₅-a [\\t\\t]\\n==%sb \\t\\tsin-niš-⸢ti⸣ la i-šár-tu ina ⸢E₂⸣ [\\t\\t]\\n\\n57\\t\\tmunus si <nu->sa₂-a u₂ šu-ni ŋar-re-d[a\\t]\\n==%sb -59\\tsin-niš-tú la i-šár-tú [\\t] / a-kal [\\t\\t]\\n@reverse\\n@column 1\\n1\\t\\tsaŋ iti nu-til₃-la šu gur-gu[r-ru-de₃\\t\\t]\\n==%sb \\t\\tiz-bu ⸢x x x x x x x x x⸣ [\\t]\\n\\n3\\t\\t{kuš}a-ŋa₂-la₂ {kuš}ummu₃ inda₃-kaskal si-si-ge-de₃ su lu₂ ⸢x⸣ [\\t]\\n==%sb \\t\\tna-ru-uq-qá na-a-da ṣi-di-ti šá-pa-ku ZI-tú I? RA? K[A?\\t\\t]\\n\\n5\\t\\tlu₂ nu-zu-a šu teŋ₃-ŋa₂-de₃ tehi dim₂-me gaba-ri mu-ne ki-bi ŋar-ra-⸢de₃⸣ \\n==%sb \\t\\tla mu-du-ú le-qu-ú li-i’-bu mi-ih-ri šum-šu ki-ma pu-hi-šú ša-[ka-nu]\\n\\n7\\t\\te₂ tu₅-a silim-e-de₃ ki {d}utu i₃-ŋal₂\\n==%sb \\t\\tina E₂ rim-ki sul-lu-mu KI {d}UTU\\n\\n9\\tniŋin₃(⸢U.UD⸣{!}.KID) lukur ⸢nu-bar⸣ nu-ge₁₇ nu-ge₁₇ an-na di₄-di₄-la₂ mu ni₂-bi nu-un-zu-a\\n==%sb \\tku-ub na-di-tú qa-diš-ti kul-ma-ši-ti iš-ta-ri-it {d}a-ni₇ ṣe-he-ru-tú šá MU NI₂-šú-nu la ZU\\n\\n11\\t{d}utu igi nu{!}(IGI)-⸢un⸣-la₂-eš mu-ne-ne pa₃-e-de₃ ki {d}utu\\n==%sb \\t{d}UTU la i-mu-ru šum-šu-nu za-ka-ru it-ti {d}UTU\\n\\n13\\tigi hulu ka hulu eme hulu uš₁₁ hulu uš₁₁-zu uš₁₁-a-ri-a\\n\\n14\\tniŋ₂-AK-a niŋ₂-hulu dim₂-ma e₂ tu₅ bur₂-ru-da ki {d}utu\\n==%sb \\tup-šá-še-e{!} lem-nu-ti ina E₂ rim-ki pa-ša-ru it-ti {d}UTU\\n\\n16\\tinda ⸢numun₂-da⸣ gu₅-li gu₅-li-da šeš šeš-da bur₂-ru-da e₂ tu₅-a silim-e-de₃ ki {d}utu\\n==%sb \\tzi-⸢ka-ru⸣ sin-niš-ti ⸢ib-ri⸣ it-ti ib-ri a-hi it-ti a-hi pa-šá-rù ina E₂ rim-ki su-lum<-u> ki {d}UTU\\n\\n18\\tlu₂ nam-⸢erim₂⸣ ku₅-ru-da nu-un-zu-⸢a-ta⸣ ur₃-ur₃-bi gur-ru-da e₂ a-tu₅-a bur₂-ru-da ki {d}utu\\n==%sb \\ta-[me-l]a ma{!}-mit la i-du-ú it-⸢mu⸣-ú tak-per-ta-šú tur-rù ina E₂ rim-ki pa-ša-ru it-ti {d}UTU\\n\\n20\\tlu₂ n[am-r]a{!}(RI) uru-a-ni-še₃ gur-ru-da lu₂ kar-ra kurum₆ ŋar-re-de₃ ki {d}utu\\n==%sb \\t [šal]-la ana URU-šú ⸢tur⸣-ru ar-bi-i ku-ru-um-ma-tú ša-ka-nu it-ti {d}UTU\\n\\n22\\t ⸢lu₂ e₂ en-nu⸣-[un]-ŋa₂ šub-bu-de₃ ŋeštug ri-ge e₃-bi ki {d}utu :\\n==%sb \\t: ša ina E₂ ṣ[i-bi]t-ti na-du-ú hu-us-sat šú-ṣu-ú it-ti {d}UTU\\n\\n23\\t [lu₂] ⸢gurud⸣([NU]N.KI)-⸢da ib₂⸣-zi-zi lu₂ šu hu-nu dab-be₂-da ki {d}utu\\n==%sb \\t ma-aq-tú šú-ut-bu-ú qá-ti en-šú ṣa-ba-tú KI {d}UTU\\n\\n25\\t [l]u₂ niŋ₂-erim₂ šub-bu-de₃ niŋ₂-ge-na gub-bu-de₃ ki {d}utu\\n==%sb \\t rag-ga a-ba-ku kit-tú šu-uz-zu-zu KI {d}UTU\\n\\n27\\t lu₂ dur₂ ge₁₇-ga dur₁₁-ra šu-a-zu ⸢nam?-til₃⸣-la ki ni₂ tub₂ ŋa₂-ŋa₂-de₃ ki {d}utu\\n==%sb \\t ša ⸢x (x)⸣ šu-bur-ri mar-ṣu ina qá-ti a-si-i bu-ul-lu-⸢ṭi tap?-šú?-uh-tú [\\t]\\n\\n29\\t lu₂ kaš₄-e za₃ du₁₀-bi-še₃ ŋar a₂-nun-ŋal₂-e hub₂ šuš₂ teŋ₃-ŋa₂-de₃ k[i {d}utu]\\n==%sb \\t la-si-mu ša ana bir-ki-šú tak-lu hu-um-mu-rù ina li-is-mu-šú? [\\t]\\n\\n31\\t lu₂ {ŋeš}tukul sag₃-ga bar bi₂-in-gurud-da te₈{mušen} nu-u[m-ma]{mušen} g[u₇  ]\\n==%sb \\t šá ina kak-ku di-ku-ma ina ṣe-e-ri na-du-ú e-ru-ú u [\\t]\\n\\n33\\t enim-bi ki šu ra-ra-de₃ im-bi dab-be₂-e-de₃ enim-bi [\\t]\\n==%sb \\t e-ṭém-ma-šú ir-ta-na-pu-du šá-ar la e-de-pu e-⸢ṭém⸣-ma-šú ana ⸢ŠA₃⸣? [\\t]\\n\\n35\\t sun₅-e-de₃ enim-bi kitim a-ri-a-⸢bi x⸣ [\\t]\\n==%sb \\t šu-⸢ru-bu⸣ e-ṭém-ma-šú it-ti e-ṭém kim-⸢ti-šú⸣ [\\t]\\n\\n37\\t šid-e-⸢de₃⸣ mu-bi pa₃-de-de₃ ⸢ki {d}utu⸣{ }\\n==%sb \\t⸢KI? x TI⸣(Rasur) šum-šu za-ka-ri it-ti ⸢{d}UTU⸣\\n\\n39\\t lu₂-{ŋeš}gam₃-šu-⸢du₇⸣ nam-gam₃ i₃-AK-e {d}kur lagarₓ(SAL.HUB₂) kur-ra ⸢x⸣ [\\t]\\n==%sb \\t mu-us-si-[r]u mu-us-si-ru-tú e-pe-šu {d}ra-ma-nu suk-k[al\\t]\\n\\n41\\t šu il₂-⸢la⸣-bi-ta ŋuruš ki-sikil mu-un-ŋa₂-ŋa₂ ⸢x⸣ [\\t]\\n==%sb \\t ina ni-iš q[á-t]i-šú eṭ-lu u ar-da-ti ul-lu-lu ⸢x⸣ [\\t]\\n\\n43\\t uru gul du₃-u₃-da uŋ₃ biri-ra-bi gu₂ ŋar-re-da [\\t]\\n==%sb \\t a-la₁₂ ab-tú ⸢e⸣-pe-šu ni-ši-šu sa-ap-ha-a-ti pu-ú[h-hu-ru\\t]\\n\\n45\\t diŋir ama {d}inana-bi ša₃ da[b-b]a-meš lu₂ ni₁₀-ni₁₀-e-de₃ maš-⸢šu⸣-gid₂-gid₂ ens[i\\t\\t]\\n==%sb \\t i-la u iš-ta-⸢ru⸣ ze-nu-tú sà-ha-ri ba-ri-i u ša-i-l[i\\t\\t]\\n\\n47\\t maš-šu-gid₂-gid₂ uzu silim-⸢ma⸣ ŋar-re-da ⸢ensi⸣ lu₂{!}(ŠE)-tab-ba niŋ₂-g[e-na\\t]\\n==%sb \\t ana [b]a-ri-i ši-ir ⸢šul⸣ -mi ⸢ša-ka-nu⸣ ša-i-la ⸢x⸣ [\\t]\\n\\n49\\t nam-⸢šub⸣ nam-sikil du₃-a-⸢bi⸣ til₃-⸢le⸣-da ki [{d}utu]\\n==%sb \\t ina šip-ti te-lil-ti ka-la-šu bu₄-ul-lu-[ṭu\\t\\t]\\n\\n51\\t {d}en-ki {d}asar-lu₂-hi gal-bi [\\t]\\n==%sb \\t {d}é-a u {d}AMAR.UTU ⸢x BI⸣(Rasur) [\\t]\\n\\n53\\t udug hulu a-la₂ hulu kitim hulu ŋul[la\\t]\\n\\n54\\t {d}dim₃-me {d}dim₃-me-a {d}dim-me-niŋ[en₂\\t]\\n\\n55\\t uš₁₁ hulu uš₁₁-zu uš₁₁-a-ri-a niŋ₂-A[K-a\\t]\\n@column 2\\n1\\t \\t[\\t\\t\\tdum]u diŋir-ra-na bar-še₃ he₂-em-ta-gub-bu-uš\\n==%sb \\t \\t[x x x] ⸢x x x⸣ zu-mur a-me-la₁₂ mar ili-šú ina a-ha-a-tú li-zi-zu\\n\\n3\\t\\t[{d}utu] en nir-ŋal \\tan-ki-a gaba til\\n==%sb \\t{\\td}UTU be-lu e-tel-lu \\tša ina AN u KI ir-tú gam-ru\\n\\n5\\t\\t{ }lu₂-lu₇{lu} dumu diŋir-ra-na di-da-a-ni enim-ma-a-ni u₃-bi₂-zu\\n==%sb \\t\\t{ }LU₂ DUMU ili-šú di-in-šú a-mat-su li-mad-ma\\n\\n7\\t\\t{ }diŋir-bi he₂-gub ama {d}inana-bi he₂-gub\\n==%sb \\t\\t{ }ìl-šú li-iz-ziz iš-tar-šú li-iz-ziz\\n\\n9\\t\\t{ }di-da-a-ni ku₅-da-ab ka-aš-bar-a-ni bar-ra-ab\\n==%sb \\t\\t{ }di-in-šú di-in pu-ru-sà-šú pu-ru-us\\n\\n11\\t\\t sul-⸢a⸣-lum mu-un-AK-a nu-un-zu-a-ta nam-da₆-ga-bi zi-ga-ab\\n==%sb \\t\\t ⸢en-net⸣ ep-šú la i-du-ú a-ra-an-šú ú-suh₄\\n\\n13\\t\\t{ }⸢{d}utu lu₂⸣-lu₇ dumu diŋir-ra-na tug₂-siki-za al-dab egir-za al-ŋen\\n==%sb \\t\\t{ d}UTU LU₂ DUMU ili-šú si-sik-ta-ka ṣa-bit ar-ki-ka i-lak\\n\\n15 \\t{d}utu u₄-da ne-e lu₂-lu₇{lu} dumu diŋir-ra-na u₃-me-ni-sikil ⸢u₃⸣-me-ni-dadag\\n==%sb \\t\\t{d}UTU ina u₄-mi an-ni-i a-mi-la mar ili-šú ul-lil-⸢šú ub-bi-ib⸣-šú-ma\\t\\n17\\t\\tgal ku₃-si₂₂-ga-gen₇ \\tu-me-ni-dadag\\n==%sb \\t\\tki-ma qé-e hu-ra-ṣu \\tnu-um-mir-šú-ma\\t\\n\\n19 \\tgal ku₃-babbar-ra-gen₇ šu \\tu-me-ni-su-ub-su-ub\\n==%sb \\t\\tki-ma qé-e kàs-pi \\tšu-kil-šú-ma\\t\\n\\n21\\t\\tšu sa₆-ga diŋir-ra-na-še₃ \\tsilim-ma-bi he₂-bi₂-⸢tum⸣\\n==%sb \\t\\tana qa-tú dam-qa-ti šá ili-šú šal-mu-us-su pi-⸢qid⸣-su\\t\\n\\n23\\t\\tdiŋir lu₂-ba-ke₄ me-teš₂ he₂-i-i : \\n==%sb \\t\\t: DIŊIR LU₂ šu-a-⸢tu lit-ta-id-ma⸣\\n\\n24\\t\\tnam-mah {d}en-ki {d}asar-lu₂-hi-ke₄ uŋ₃-e he₂-zu-zu\\n==%sb \\t\\tnar-bi ša {d}é-a u {d}AMAR.UTU ⸢ni-ši lil-tan-du⸣\\n\\n26 \\tlu₂-lu₇{lu} dumu diŋir-ra-na ka-tar-zu kur-kur-⸢ra⸣ [\\t]\\n==%sb \\t\\tLU₂ ⸢DUMU⸣ ili-šú da-li-li-ka ana KUR.KUR l[i-\\t]\\n\\n28\\t\\tŋa₂-e {lu}2mu₇-mu₇ urdu₂-zu ka-tar-zu ⸢ga-an-si-il⸣\\n==%sb \\t\\tana-ku a-ši-pu a-ra-ad-ka da-li-⸢li⸣-[ka] ⸢lu-ud-lu-ul⸣\\n$ single ruling\\n\\n30 \\tka-enim-ma ki-{d}utu e₂ a-⸢tu₅⸣-a-kam\\n$ single ruling\\n\\n31\\t\\ten₂ en gal an-ša₃ ku₃-ga<<-ga>>-ta ⸢e₃⸣-da-zu-⸢ne⸣(Rasur)\\n$ single ruling\\n\\n32\\t\\t⸢en₂ {d}utu⸣ an-ur₂-ra he-ni-⸢sar⸣\\n$ single ruling\\n\\n33\\t\\ten₂ {d}utu kur gal-ta im-ta-e₃-⸢na?-zu?-še₃⸣?\\n$ single ruling\\n\\n\\nKolophon Uru₁\\n34\\t\\tGEN₇ [SUMUN-šú SA]R-ma IGI-rù ṭup-pi {Id}INANA-na-PAP.PAP-URU₃\\n35\\t\\tA-šú šá {I}SAŊ-{d}gu-la ŠA₃ BALA.BALA\\n36\\t\\t{I}ŠU.{d}GAR₃.AN {lu}2MAŠ.MAŠ\\n37\\t\\tqa-át {I}DU-šú-{d}UTU A-šú šá\\n38\\t\\t{I}DU₃.{d}15 A {I}ŠU-{d}na-na-a\\n39\\t\\t{lu}2ŠAMAN₂<.LA₂> {lu}2MAŠ.MAŠ uruk{ki}-ú\\n\\n'"
      ]
     },
     "execution_count": 5,
     "metadata": {},
     "output_type": "execute_result"
    }
   ],
   "source": [
    "text"
   ]
  },
  {
   "cell_type": "code",
   "execution_count": null,
   "metadata": {},
   "outputs": [],
   "source": [
    "text = text.replace('ᵈ', '{d}')"
   ]
  },
  {
   "cell_type": "code",
   "execution_count": null,
   "metadata": {},
   "outputs": [],
   "source": [
    "text = text.splitlines()"
   ]
  },
  {
   "cell_type": "code",
   "execution_count": null,
   "metadata": {},
   "outputs": [],
   "source": [
    "l_no = ''\n",
    "text2 = []\n",
    "for l in text:\n",
    "    if len(l.strip()) < 1:\n",
    "        continue\n",
    "    if l[0].isdigit():\n",
    "        l_l = l.split('. ', 1)\n",
    "        l = l_l[1]\n",
    "        l_no = l_l[0].strip()\n",
    "    l = l.strip() + ' >> A ' + l_no\n",
    "    text2.append(l)\n",
    "text2[:25]"
   ]
  },
  {
   "cell_type": "code",
   "execution_count": null,
   "metadata": {},
   "outputs": [],
   "source": [
    "text2.sort()\n",
    "text2"
   ]
  },
  {
   "cell_type": "code",
   "execution_count": null,
   "metadata": {},
   "outputs": [],
   "source": [
    "text3 = []\n",
    "witness = ''\n",
    "for l in text2:\n",
    "    l_l = l.split(' ', 1)\n",
    "    if witness != l_l[0]:\n",
    "        witness = l_l[0]\n",
    "        text3.append('&Pxxxxxx = ' + witness)\n",
    "    l = l_l[1]\n",
    "    text3.append(l)\n",
    "text3"
   ]
  },
  {
   "cell_type": "code",
   "execution_count": 6,
   "metadata": {},
   "outputs": [],
   "source": [
    "file = 'KiutuW_exemp2.atf'\n",
    "with open(file, 'w', encoding = 'utf-8') as outfile:\n",
    "    outfile.write(text)"
   ]
  },
  {
   "cell_type": "code",
   "execution_count": null,
   "metadata": {},
   "outputs": [],
   "source": []
  }
 ],
 "metadata": {
  "kernelspec": {
   "display_name": "Python 3",
   "language": "python",
   "name": "python3"
  },
  "language_info": {
   "codemirror_mode": {
    "name": "ipython",
    "version": 3
   },
   "file_extension": ".py",
   "mimetype": "text/x-python",
   "name": "python",
   "nbconvert_exporter": "python",
   "pygments_lexer": "ipython3",
   "version": "3.7.3"
  }
 },
 "nbformat": 4,
 "nbformat_minor": 4
}
