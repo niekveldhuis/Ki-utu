{
 "cells": [
  {
   "cell_type": "code",
   "execution_count": null,
   "metadata": {},
   "outputs": [],
   "source": [
    "import re\n",
    "import pandas as pd\n",
    "import csv"
   ]
  },
  {
   "cell_type": "code",
   "execution_count": null,
   "metadata": {},
   "outputs": [],
   "source": [
    "file = 'UTU_A_Partitur-reformatted3.txt'\n",
    "with open(file, 'r', encoding='utf-8-sig') as u:\n",
    "    l = u.read().splitlines()\n",
    "l = [li for li in l if len(li.strip()) > 0]"
   ]
  },
  {
   "cell_type": "code",
   "execution_count": null,
   "metadata": {},
   "outputs": [],
   "source": [
    "lineno = ''\n",
    "lines = []\n",
    "for line in l:\n",
    "    if line[0].isdigit():\n",
    "        lineno = line\n",
    "    else:\n",
    "        line = line + ' >> A ' + lineno\n",
    "        lines.append(line)"
   ]
  },
  {
   "cell_type": "code",
   "execution_count": null,
   "metadata": {},
   "outputs": [],
   "source": [
    "lines.sort()"
   ]
  },
  {
   "cell_type": "code",
   "execution_count": null,
   "metadata": {},
   "outputs": [],
   "source": [
    "lines_l = [li.split('\\t', 1) for li in lines]"
   ]
  },
  {
   "cell_type": "code",
   "execution_count": null,
   "metadata": {},
   "outputs": [],
   "source": [
    "df = pd.DataFrame(lines_l).fillna('')\n",
    "columns = ['line_no', 'text']\n",
    "df.columns = columns\n",
    "df"
   ]
  },
  {
   "cell_type": "code",
   "execution_count": null,
   "metadata": {},
   "outputs": [],
   "source": [
    "df.line_no = [l + '.' for l in df.line_no]"
   ]
  },
  {
   "cell_type": "code",
   "execution_count": null,
   "metadata": {},
   "outputs": [],
   "source": [
    "df.text = [t.strip() for t in df.text]"
   ]
  },
  {
   "cell_type": "code",
   "execution_count": null,
   "metadata": {},
   "outputs": [],
   "source": [
    "intab = 'ḪḫĜĝ'\n",
    "outtab = \"HhŊŋ\"\n",
    "trantab = str.maketrans(intab, outtab)"
   ]
  },
  {
   "cell_type": "code",
   "execution_count": null,
   "metadata": {},
   "outputs": [],
   "source": [
    "df.text = [t.translate(trantab) for t in df.text]"
   ]
  },
  {
   "cell_type": "code",
   "execution_count": null,
   "metadata": {},
   "outputs": [],
   "source": [
    "nos = ['0', '1', '2', '3', '4', '5', '6', '7', '8', '9', 'X']\n",
    "indexes = ['₀', '₁', '₂', '₃', '₄', '₅', '₆', '₇', '₈', '₉', 'ₓ']\n",
    "ind_d = dict(zip(nos, indexes))"
   ]
  },
  {
   "cell_type": "code",
   "execution_count": null,
   "metadata": {},
   "outputs": [],
   "source": [
    "letters = '(?<=[a-zŋṣšṭA-ZŊṢŠṬ])'\n",
    "indexes = '(?<=[₀-₉])'"
   ]
  },
  {
   "cell_type": "code",
   "execution_count": null,
   "metadata": {},
   "outputs": [],
   "source": [
    "for no in ind_d: \n",
    "    df.text = [re.sub(letters + no, ind_d[no], t) for t in df.text]\n",
    "for no in ind_d: \n",
    "    df.text = [re.sub(indexes + no, ind_d[no], t) for t in df.text]"
   ]
  },
  {
   "cell_type": "code",
   "execution_count": null,
   "metadata": {},
   "outputs": [],
   "source": [
    "file = 'Kiutu_A.atf'\n",
    "with open(file, 'w', encoding = 'utf-8') as outfile:\n",
    "    df.to_csv(outfile, sep=' ', header=False, index=False, quoting=csv.QUOTE_NONE, escapechar=' ')"
   ]
  },
  {
   "cell_type": "code",
   "execution_count": null,
   "metadata": {},
   "outputs": [],
   "source": []
  }
 ],
 "metadata": {
  "kernelspec": {
   "display_name": "Python 3",
   "language": "python",
   "name": "python3"
  },
  "language_info": {
   "codemirror_mode": {
    "name": "ipython",
    "version": 3
   },
   "file_extension": ".py",
   "mimetype": "text/x-python",
   "name": "python",
   "nbconvert_exporter": "python",
   "pygments_lexer": "ipython3",
   "version": "3.7.0"
  }
 },
 "nbformat": 4,
 "nbformat_minor": 2
}
